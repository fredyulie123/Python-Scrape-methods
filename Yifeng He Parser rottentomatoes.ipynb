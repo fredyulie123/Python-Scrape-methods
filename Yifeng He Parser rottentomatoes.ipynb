{
 "cells": [
  {
   "cell_type": "code",
   "execution_count": 1,
   "metadata": {},
   "outputs": [],
   "source": [
    "# import libraries\n",
    "import requests\n",
    "import re\n",
    "import time\n",
    "from bs4 import BeautifulSoup"
   ]
  },
  {
   "cell_type": "code",
   "execution_count": 2,
   "metadata": {},
   "outputs": [],
   "source": [
    "data  = [] \n",
    "# access the webpage as Chrome\n",
    "my_headers = { 'User-Agent': 'Mozilla/5.0 (Windows NT 6.1) AppleWebKit/537.36 (KHTML, like Gecko) Chrome/41.0.2228.0 Safari/537.36'}"
   ]
  },
  {
   "cell_type": "code",
   "execution_count": 3,
   "metadata": {},
   "outputs": [
    {
     "name": "stdout",
     "output_type": "stream",
     "text": [
      "The movie name: Joker\n",
      "The number of pages: 5\n"
     ]
    }
   ],
   "source": [
    "# input scrape movie name and number of page you want to scrape\n",
    "movie  = input(\"The movie name: \")\n",
    "pageNum = int(input(\"The number of pages: \"))\n",
    "\n",
    "data = []\n",
    "for i in range(1,pageNum+1):\n",
    "    # get the url\n",
    "    response = requests.get(\"https://rottentomatoes.com/m/\"+ movie +\"/reviews?page=\"+ 'i')\n",
    "    src = response.content\n",
    "    soup = BeautifulSoup(src.decode(\"ascii\",\"ignore\"),\"lxml\")\n",
    "    reviews = soup.findAll(\"div\",{'class':re.compile('row review_table_row')})\n",
    "    \n",
    "    for r in reviews:\n",
    "            name = 'NA'\n",
    "            source = 'NA'\n",
    "            rating = 'NA'\n",
    "            content = 'NA'\n",
    "            date = 'NA'\n",
    "\n",
    "            nm = r.find('a', {'class':re.compile('unstyled bold articleLink')})\n",
    "            sc = r.find('em',{'class':re.compile('subtle critic-publication')})\n",
    "            icon = r.find('div', {'class':re.compile('review_icon icon small')})\n",
    "            cnt = r.find('div', {'class':re.compile('the_review')})\n",
    "            dt = r.find('div', {'class':re.compile('review-date subtle small')})\n",
    "            if nm:\n",
    "                name = nm.text.strip()\n",
    "            if sc:\n",
    "                source = sc.text.strip()\n",
    "            if review:\n",
    "                rating = icon.attrs['class'][3]\n",
    "            if content:\n",
    "                content = cnt.text.strip()\n",
    "            if date:\n",
    "                date = dt.text.strip()\n",
    "            data.append([name,rating,source,content,date])\n",
    "    # save the result as text file\n",
    "    with open('Yifeng He Parser.txt', mode='w', encoding='utf-8') as f:\n",
    "        for text in data:\n",
    "            f.write(text[0] + '\\t' + text[1] + '\\t' + text[2] + '\\t' + text[3]+ '\\t' + text[4] + '\\n')"
   ]
  },
  {
   "cell_type": "code",
   "execution_count": null,
   "metadata": {},
   "outputs": [],
   "source": []
  },
  {
   "cell_type": "code",
   "execution_count": null,
   "metadata": {},
   "outputs": [],
   "source": []
  }
 ],
 "metadata": {
  "kernelspec": {
   "display_name": "Python 3",
   "language": "python",
   "name": "python3"
  },
  "language_info": {
   "codemirror_mode": {
    "name": "ipython",
    "version": 3
   },
   "file_extension": ".py",
   "mimetype": "text/x-python",
   "name": "python",
   "nbconvert_exporter": "python",
   "pygments_lexer": "ipython3",
   "version": "3.7.3"
  }
 },
 "nbformat": 4,
 "nbformat_minor": 2
}
