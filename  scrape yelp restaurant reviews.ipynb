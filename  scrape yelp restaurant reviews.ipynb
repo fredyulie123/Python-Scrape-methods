{
 "cells": [
  {
   "cell_type": "markdown",
   "metadata": {},
   "source": [
    "## Scrape 10 restaurants reviews from yelp"
   ]
  },
  {
   "cell_type": "code",
   "execution_count": 1,
   "metadata": {},
   "outputs": [],
   "source": [
    "#import useful packages\n",
    "import re\n",
    "import requests\n",
    "from bs4 import BeautifulSoup\n",
    "import time\n",
    "import os\n"
   ]
  },
  {
   "cell_type": "code",
   "execution_count": 2,
   "metadata": {},
   "outputs": [
    {
     "name": "stdout",
     "output_type": "stream",
     "text": [
      "please input resuaurant name:Ocean Prime\n",
      "please input total page num:29\n"
     ]
    }
   ],
   "source": [
    "# define the restaurant which parsed\n",
    "os.getcwd()\n",
    "path = str(input('please input resuaurant name:')) # each time change the restaurant name \n",
    "page = int(input('please input total page num:')) # each time change page number"
   ]
  },
  {
   "cell_type": "code",
   "execution_count": 3,
   "metadata": {},
   "outputs": [
    {
     "name": "stdout",
     "output_type": "stream",
     "text": [
      "Successfully get the page https://www.yelp.com/biz/ocean-prime-new-york?osq=steak\n",
      "Successfully get the page https://www.yelp.com/biz/ocean-prime-new-york?osq=steak&start=20\n",
      "Successfully get the page https://www.yelp.com/biz/ocean-prime-new-york?osq=steak&start=40\n",
      "Successfully get the page https://www.yelp.com/biz/ocean-prime-new-york?osq=steak&start=60\n",
      "Successfully get the page https://www.yelp.com/biz/ocean-prime-new-york?osq=steak&start=80\n",
      "Successfully get the page https://www.yelp.com/biz/ocean-prime-new-york?osq=steak&start=100\n",
      "Successfully get the page https://www.yelp.com/biz/ocean-prime-new-york?osq=steak&start=120\n",
      "Successfully get the page https://www.yelp.com/biz/ocean-prime-new-york?osq=steak&start=140\n",
      "Successfully get the page https://www.yelp.com/biz/ocean-prime-new-york?osq=steak&start=160\n",
      "Successfully get the page https://www.yelp.com/biz/ocean-prime-new-york?osq=steak&start=180\n",
      "Successfully get the page https://www.yelp.com/biz/ocean-prime-new-york?osq=steak&start=200\n",
      "Successfully get the page https://www.yelp.com/biz/ocean-prime-new-york?osq=steak&start=220\n",
      "Successfully get the page https://www.yelp.com/biz/ocean-prime-new-york?osq=steak&start=240\n",
      "Successfully get the page https://www.yelp.com/biz/ocean-prime-new-york?osq=steak&start=260\n",
      "Successfully get the page https://www.yelp.com/biz/ocean-prime-new-york?osq=steak&start=280\n",
      "Successfully get the page https://www.yelp.com/biz/ocean-prime-new-york?osq=steak&start=300\n",
      "Successfully get the page https://www.yelp.com/biz/ocean-prime-new-york?osq=steak&start=320\n",
      "Successfully get the page https://www.yelp.com/biz/ocean-prime-new-york?osq=steak&start=340\n",
      "Successfully get the page https://www.yelp.com/biz/ocean-prime-new-york?osq=steak&start=360\n",
      "Successfully get the page https://www.yelp.com/biz/ocean-prime-new-york?osq=steak&start=380\n",
      "Successfully get the page https://www.yelp.com/biz/ocean-prime-new-york?osq=steak&start=400\n",
      "Successfully get the page https://www.yelp.com/biz/ocean-prime-new-york?osq=steak&start=420\n",
      "Successfully get the page https://www.yelp.com/biz/ocean-prime-new-york?osq=steak&start=440\n",
      "Successfully get the page https://www.yelp.com/biz/ocean-prime-new-york?osq=steak&start=460\n",
      "Successfully get the page https://www.yelp.com/biz/ocean-prime-new-york?osq=steak&start=480\n",
      "Successfully get the page https://www.yelp.com/biz/ocean-prime-new-york?osq=steak&start=500\n",
      "Successfully get the page https://www.yelp.com/biz/ocean-prime-new-york?osq=steak&start=520\n",
      "Successfully get the page https://www.yelp.com/biz/ocean-prime-new-york?osq=steak&start=540\n",
      "Successfully get the page https://www.yelp.com/biz/ocean-prime-new-york?osq=steak&start=560\n"
     ]
    }
   ],
   "source": [
    "data  = [] \n",
    "\n",
    "my_headers = { 'User-Agent': 'Mozilla/5.0 (Windows NT 6.1) AppleWebKit/537.36 (KHTML, like Gecko) Chrome/41.0.2228.0 Safari/537.36'}\n",
    "AUTOTHROTTLE_ENABLED = True\n",
    "\n",
    "\n",
    "# url need to change manually\n",
    "for k in range(0, page):\n",
    "    if k == 0 :\n",
    "        url = \"https://www.yelp.com/biz/ocean-prime-new-york?osq=steak\" # first page\n",
    "    else :\n",
    "        url = \"https://www.yelp.com/biz/ocean-prime-new-york?osq=steak&start=\" +str(k*20) # from second page all have page index\n",
    "    src = False\n",
    "    for i in range(1,page): #error handlling\n",
    "        try:\n",
    "            response = requests.get(url, headers = my_headers)\n",
    "            src = response.content\n",
    "            break\n",
    "        except:\n",
    "            print('failed attempt #', i)\n",
    "            time.sleep(2)\n",
    "    if not src:\n",
    "        print('Could not get page', url)\n",
    "    else:\n",
    "        print('Successfully get the page', url)\n",
    "    \n",
    "    soup = BeautifulSoup(src.decode('ascii', 'ignore'),'lxml')\n",
    "\n",
    "# find each review \n",
    "    infos = soup.findAll('div', {'class':re.compile('lemon--div__373c0__1mboc sidebarActionsHoverTarget__373c0__2kfhE arrange__373c0__2C9bH gutter-2__373c0__1DiLQ grid__373c0__1Pz7f layout-stack-small__373c0__27wVp border-color--default__373c0__3-ifU')})\n",
    "    for info in infos:\n",
    "        users = info.find('a',{'class':re.compile('lemon--a__373c0__IEZFH link__373c0__1G70M link-color--inherit__373c0__3dzpk link-size--inherit__373c0__1VFlE')})\n",
    "        places = info.find('span',{'class':re.compile('lemon--span__373c0__3997G text__373c0__2Kxyz text-color--normal__373c0__3xep9 text-align--left__373c0__2XGa- text-weight--bold__373c0__1elNz text-size--small__373c0__3NVWO')})\n",
    "        rates = info.find('div',{'class':re.compile('i-stars--regular-5__373c0__N5JxY')})\n",
    "        times = info.find('span',{'class':re.compile('lemon--span__373c0__3997G text__373c0__2Kxyz text-color--mid__373c0__jCeOG text-align--left__373c0__2XGa-')})\n",
    "        reviews = info.find('span',{'class':re.compile('lemon--span__373c0__3997G raw__373c0__3rKqk'),'lang':re.compile('en')})\n",
    "        if users:\n",
    "            user = users.text.strip()\n",
    "        if places:\n",
    "            place = places.text.strip()\n",
    "        if rates:\n",
    "            rate = rates['aria-label'].strip()\n",
    "        if times:\n",
    "            time = times.text.strip()\n",
    "        if reviews:\n",
    "            review = reviews.text.strip()\n",
    "        data.append([user,place,rate,time,review])# record each review\n",
    "\n",
    "# save data as text file\n",
    "    with open (path+'.txt', mode='w', encoding='utf-8') as f:\n",
    "        for text in data:\n",
    "            f.write(text[0] + '\\t' + text[1] +'\\t' + text[2] +'\\t' + text[3] + '\\t' + text[4] + '\\n')"
   ]
  },
  {
   "cell_type": "code",
   "execution_count": 4,
   "metadata": {},
   "outputs": [
    {
     "data": {
      "text/plain": [
       "'C:\\\\Users\\\\Yifeng He\\\\Desktop\\\\graduated'"
      ]
     },
     "execution_count": 4,
     "metadata": {},
     "output_type": "execute_result"
    }
   ],
   "source": [
    "# define files location\n",
    "os.getcwd()"
   ]
  },
  {
   "cell_type": "code",
   "execution_count": 5,
   "metadata": {},
   "outputs": [],
   "source": [
    "filenames = ['212 Steakhouse.txt', 'Atrium Dumbo.txt','Benchmark.txt','Boucherie Union Square.txt','Harry\\'s.txt','Ruth\\'s Chris Steak House.txt','Ocean Prime.txt','STK Midtown.txt','St. Anselm.txt','Wolfgang\\'s Steakhouse.txt']\n",
    "with open('text_merge.txt', 'w') as f: # file location as same as parsed texts\n",
    "    for fname in filenames:\n",
    "        with open(fname) as infile:\n",
    "            for line in infile:\n",
    "                f.write(line)"
   ]
  }
 ],
 "metadata": {
  "kernelspec": {
   "display_name": "Python 3",
   "language": "python",
   "name": "python3"
  },
  "language_info": {
   "codemirror_mode": {
    "name": "ipython",
    "version": 3
   },
   "file_extension": ".py",
   "mimetype": "text/x-python",
   "name": "python",
   "nbconvert_exporter": "python",
   "pygments_lexer": "ipython3",
   "version": "3.7.3"
  }
 },
 "nbformat": 4,
 "nbformat_minor": 2
}
